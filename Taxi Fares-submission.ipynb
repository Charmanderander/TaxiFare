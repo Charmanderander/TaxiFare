{
 "cells": [
  {
   "cell_type": "code",
   "execution_count": 1,
   "metadata": {},
   "outputs": [],
   "source": [
    "# Data Exploration\n",
    "\n",
    "# Importing various libraries\n",
    "\n",
    "import pandas as pd\n",
    "import matplotlib as mpl\n",
    "import matplotlib.pyplot as plt\n",
    "import numpy as np\n",
    "import datetime\n",
    "import math"
   ]
  },
  {
   "cell_type": "code",
   "execution_count": 2,
   "metadata": {},
   "outputs": [],
   "source": [
    "# Still can't read 55 million.. capping it at 10 million\n",
    "\n",
    "df_train = pd.read_csv(\"train.csv\", nrows=1000000)"
   ]
  },
  {
   "cell_type": "code",
   "execution_count": 3,
   "metadata": {},
   "outputs": [
    {
     "name": "stdout",
     "output_type": "stream",
     "text": [
      "Fare amount has Nan: False\n",
      "Pickup datetime amount has Nan: False\n",
      "Pickup lat amount has Nan: False\n",
      "Pickup long amount has Nan: False\n",
      "Dropoff lat amount has Nan: False\n",
      "Dropoff long amount has Nan: False\n",
      "Passenger count amount has Nan: False\n"
     ]
    }
   ],
   "source": [
    "# Removing null entries\n",
    "\n",
    "df_train = df_train[df_train['dropoff_latitude'].isnull() == False]\n",
    "print(\"Fare amount has Nan: {}\".format(df_train['fare_amount'].isnull().values.any()))\n",
    "print(\"Pickup datetime amount has Nan: {}\".format(df_train['pickup_datetime'].isnull().values.any()))\n",
    "print(\"Pickup lat amount has Nan: {}\".format(df_train['pickup_latitude'].isnull().values.any()))\n",
    "print(\"Pickup long amount has Nan: {}\".format(df_train['pickup_longitude'].isnull().values.any()))\n",
    "print(\"Dropoff lat amount has Nan: {}\".format(df_train['dropoff_latitude'].isnull().values.any()))\n",
    "print(\"Dropoff long amount has Nan: {}\".format(df_train['dropoff_longitude'].isnull().values.any()))\n",
    "print(\"Passenger count amount has Nan: {}\".format(df_train['passenger_count'].isnull().values.any()))"
   ]
  },
  {
   "cell_type": "code",
   "execution_count": 4,
   "metadata": {},
   "outputs": [],
   "source": [
    "# Removing odd passenger counts\n",
    "\n",
    "df_train = df_train[df_train.passenger_count != 208]\n",
    "df_train = df_train[df_train.passenger_count != 0]"
   ]
  },
  {
   "cell_type": "code",
   "execution_count": 5,
   "metadata": {},
   "outputs": [],
   "source": [
    "# Removing negative fares\n",
    "\n",
    "df_train = df_train[df_train.fare_amount > 0]"
   ]
  },
  {
   "cell_type": "code",
   "execution_count": 6,
   "metadata": {
    "scrolled": true
   },
   "outputs": [],
   "source": [
    "# Creating new features date and time\n",
    "\n",
    "df_clean = df_train\n",
    "\n",
    "df_clean['date'] = df_train['pickup_datetime'].apply(lambda x : x[:-12])\n",
    "df_clean['time'] = df_train['pickup_datetime'].apply(lambda x : x[11:-4])\n",
    "\n",
    "# removing datetime, since no longer needed\n",
    "df_clean = df_clean.drop(columns=['pickup_datetime'])\n",
    "\n",
    "df_clean['day'] = df_clean['date'].apply(lambda x : datetime.datetime.strptime(x.strip(), \"%Y-%m-%d\").weekday())"
   ]
  },
  {
   "cell_type": "code",
   "execution_count": 7,
   "metadata": {},
   "outputs": [],
   "source": [
    "# Exploring Time feature\n",
    "\n",
    "\n",
    "df_clean['hour'] = df_clean['time'].apply(lambda x : int(x.split(\":\")[0]))"
   ]
  },
  {
   "cell_type": "code",
   "execution_count": 8,
   "metadata": {},
   "outputs": [],
   "source": [
    "# These cut off values were done by trial and error, and observing the bounding box of NYC on Google Maps\n",
    "\n",
    "df_clean = df_clean[df_clean['pickup_longitude'] > -75]\n",
    "df_clean = df_clean[df_clean['pickup_longitude'] < -72]\n",
    "df_clean = df_clean[df_clean['pickup_latitude'] < 41]\n",
    "df_clean = df_clean[df_clean['pickup_latitude'] > 40]\n",
    "\n",
    "\n",
    "df_clean = df_clean[df_clean['dropoff_longitude'] > -75]\n",
    "df_clean = df_clean[df_clean['dropoff_longitude'] < -72]\n",
    "df_clean = df_clean[df_clean['dropoff_latitude'] < 41]\n",
    "df_clean = df_clean[df_clean['dropoff_latitude'] > 40]\n"
   ]
  },
  {
   "cell_type": "code",
   "execution_count": 9,
   "metadata": {},
   "outputs": [],
   "source": [
    "# Got it from https://www.kaggle.com/pavanraj159/nyc-taxi-fare-time-series-forecasting\n",
    "\n",
    "R = 6373.0\n",
    "\n",
    "pickup_lat  = np.radians(df_clean[\"pickup_latitude\"])\n",
    "pickup_lon  = np.radians(df_clean[\"pickup_longitude\"])\n",
    "dropoff_lat = np.radians(df_clean[\"dropoff_latitude\"])\n",
    "dropoff_lon = np.radians(df_clean[\"dropoff_longitude\"])\n",
    "\n",
    "dist_lon = dropoff_lon - pickup_lon\n",
    "dist_lat = dropoff_lat - pickup_lat\n",
    "\n",
    "#Formula\n",
    "a = (np.sin(dist_lat/2))**2 + np.cos(pickup_lat) * np.cos(dropoff_lat) * (np.sin(dist_lon/2))**2 \n",
    "c = 2 * np.arctan2( np.sqrt(a), np.sqrt(1-a) ) \n",
    "d = R * c #(where R is the radius of the Earth)\n",
    "\n",
    "df_clean['distance'] = d"
   ]
  },
  {
   "cell_type": "code",
   "execution_count": 10,
   "metadata": {},
   "outputs": [],
   "source": [
    "df_clean = df_clean[df_clean['distance'] > 1]\n",
    "df_clean = df_clean[df_clean['distance'] <40]"
   ]
  },
  {
   "cell_type": "code",
   "execution_count": 11,
   "metadata": {},
   "outputs": [
    {
     "data": {
      "text/plain": [
       "((813922, 4), (813922,))"
      ]
     },
     "execution_count": 11,
     "metadata": {},
     "output_type": "execute_result"
    }
   ],
   "source": [
    "features = ['day', 'hour', 'distance', 'passenger_count']\n",
    "x = df_clean[features]\n",
    "y = df_clean['fare_amount']\n",
    "\n",
    "x.shape,y.shape"
   ]
  },
  {
   "cell_type": "code",
   "execution_count": 12,
   "metadata": {},
   "outputs": [],
   "source": [
    "# create training and test sets\n",
    "from sklearn.model_selection import train_test_split\n",
    "\n",
    "x_train, x_test, y_train, y_test = train_test_split(x, y, test_size=0.25)"
   ]
  },
  {
   "cell_type": "code",
   "execution_count": 13,
   "metadata": {},
   "outputs": [],
   "source": [
    "# testing the model\n",
    "\n",
    "from sklearn.preprocessing import StandardScaler\n",
    "from sklearn.neural_network import MLPRegressor\n",
    "\n",
    "mlp = MLPRegressor(hidden_layer_sizes=(5,5))\n",
    "\n",
    "scaler = StandardScaler()\n",
    "# Fit only to the training data\n",
    "scaler.fit(x_train)\n",
    "\n",
    "mlp.fit(x_train, y_train)\n",
    "\n",
    "y_test_pred = mlp.predict(x_test)"
   ]
  },
  {
   "cell_type": "code",
   "execution_count": 14,
   "metadata": {},
   "outputs": [
    {
     "data": {
      "text/plain": [
       "0.8144731333988284"
      ]
     },
     "execution_count": 14,
     "metadata": {},
     "output_type": "execute_result"
    }
   ],
   "source": [
    "# evaluating the model\n",
    "\n",
    "from sklearn.metrics import r2_score\n",
    "\n",
    "r2_score(y_test, y_test_pred)"
   ]
  },
  {
   "cell_type": "code",
   "execution_count": 15,
   "metadata": {},
   "outputs": [
    {
     "name": "stdout",
     "output_type": "stream",
     "text": [
      "Pickup datetime amount has Nan: False\n",
      "Pickup lat amount has Nan: False\n",
      "Pickup long amount has Nan: False\n",
      "Dropoff lat amount has Nan: False\n",
      "Dropoff long amount has Nan: False\n",
      "Passenger count amount has Nan: False\n"
     ]
    }
   ],
   "source": [
    "# Not too shabby! Lets generate a Kaggle submission and see how it performs\n",
    "\n",
    "df_test = pd.read_csv('test.csv')\n",
    "\n",
    "df_test = df_test[df_test['dropoff_latitude'].isnull() == False]\n",
    "print(\"Pickup datetime amount has Nan: {}\".format(df_test['pickup_datetime'].isnull().values.any()))\n",
    "print(\"Pickup lat amount has Nan: {}\".format(df_test['pickup_latitude'].isnull().values.any()))\n",
    "print(\"Pickup long amount has Nan: {}\".format(df_test['pickup_longitude'].isnull().values.any()))\n",
    "print(\"Dropoff lat amount has Nan: {}\".format(df_test['dropoff_latitude'].isnull().values.any()))\n",
    "print(\"Dropoff long amount has Nan: {}\".format(df_test['dropoff_longitude'].isnull().values.any()))\n",
    "print(\"Passenger count amount has Nan: {}\".format(df_test['passenger_count'].isnull().values.any()))"
   ]
  },
  {
   "cell_type": "code",
   "execution_count": 16,
   "metadata": {},
   "outputs": [
    {
     "data": {
      "text/html": [
       "<div>\n",
       "<style scoped>\n",
       "    .dataframe tbody tr th:only-of-type {\n",
       "        vertical-align: middle;\n",
       "    }\n",
       "\n",
       "    .dataframe tbody tr th {\n",
       "        vertical-align: top;\n",
       "    }\n",
       "\n",
       "    .dataframe thead th {\n",
       "        text-align: right;\n",
       "    }\n",
       "</style>\n",
       "<table border=\"1\" class=\"dataframe\">\n",
       "  <thead>\n",
       "    <tr style=\"text-align: right;\">\n",
       "      <th></th>\n",
       "      <th>key</th>\n",
       "      <th>pickup_datetime</th>\n",
       "      <th>pickup_longitude</th>\n",
       "      <th>pickup_latitude</th>\n",
       "      <th>dropoff_longitude</th>\n",
       "      <th>dropoff_latitude</th>\n",
       "      <th>passenger_count</th>\n",
       "    </tr>\n",
       "  </thead>\n",
       "  <tbody>\n",
       "    <tr>\n",
       "      <th>0</th>\n",
       "      <td>2015-01-27 13:08:24.0000002</td>\n",
       "      <td>2015-01-27 13:08:24 UTC</td>\n",
       "      <td>-73.973320</td>\n",
       "      <td>40.763805</td>\n",
       "      <td>-73.981430</td>\n",
       "      <td>40.743835</td>\n",
       "      <td>1</td>\n",
       "    </tr>\n",
       "    <tr>\n",
       "      <th>1</th>\n",
       "      <td>2015-01-27 13:08:24.0000003</td>\n",
       "      <td>2015-01-27 13:08:24 UTC</td>\n",
       "      <td>-73.986862</td>\n",
       "      <td>40.719383</td>\n",
       "      <td>-73.998886</td>\n",
       "      <td>40.739201</td>\n",
       "      <td>1</td>\n",
       "    </tr>\n",
       "    <tr>\n",
       "      <th>2</th>\n",
       "      <td>2011-10-08 11:53:44.0000002</td>\n",
       "      <td>2011-10-08 11:53:44 UTC</td>\n",
       "      <td>-73.982524</td>\n",
       "      <td>40.751260</td>\n",
       "      <td>-73.979654</td>\n",
       "      <td>40.746139</td>\n",
       "      <td>1</td>\n",
       "    </tr>\n",
       "    <tr>\n",
       "      <th>3</th>\n",
       "      <td>2012-12-01 21:12:12.0000002</td>\n",
       "      <td>2012-12-01 21:12:12 UTC</td>\n",
       "      <td>-73.981160</td>\n",
       "      <td>40.767807</td>\n",
       "      <td>-73.990448</td>\n",
       "      <td>40.751635</td>\n",
       "      <td>1</td>\n",
       "    </tr>\n",
       "    <tr>\n",
       "      <th>4</th>\n",
       "      <td>2012-12-01 21:12:12.0000003</td>\n",
       "      <td>2012-12-01 21:12:12 UTC</td>\n",
       "      <td>-73.966046</td>\n",
       "      <td>40.789775</td>\n",
       "      <td>-73.988565</td>\n",
       "      <td>40.744427</td>\n",
       "      <td>1</td>\n",
       "    </tr>\n",
       "  </tbody>\n",
       "</table>\n",
       "</div>"
      ],
      "text/plain": [
       "                           key          pickup_datetime  pickup_longitude  \\\n",
       "0  2015-01-27 13:08:24.0000002  2015-01-27 13:08:24 UTC        -73.973320   \n",
       "1  2015-01-27 13:08:24.0000003  2015-01-27 13:08:24 UTC        -73.986862   \n",
       "2  2011-10-08 11:53:44.0000002  2011-10-08 11:53:44 UTC        -73.982524   \n",
       "3  2012-12-01 21:12:12.0000002  2012-12-01 21:12:12 UTC        -73.981160   \n",
       "4  2012-12-01 21:12:12.0000003  2012-12-01 21:12:12 UTC        -73.966046   \n",
       "\n",
       "   pickup_latitude  dropoff_longitude  dropoff_latitude  passenger_count  \n",
       "0        40.763805         -73.981430         40.743835                1  \n",
       "1        40.719383         -73.998886         40.739201                1  \n",
       "2        40.751260         -73.979654         40.746139                1  \n",
       "3        40.767807         -73.990448         40.751635                1  \n",
       "4        40.789775         -73.988565         40.744427                1  "
      ]
     },
     "execution_count": 16,
     "metadata": {},
     "output_type": "execute_result"
    }
   ],
   "source": [
    "df_test.head()"
   ]
  },
  {
   "cell_type": "code",
   "execution_count": 17,
   "metadata": {},
   "outputs": [],
   "source": [
    "# Creating new features date and time\n",
    "\n",
    "df_clean = df_test\n",
    "\n",
    "df_clean['date'] = df_clean['pickup_datetime'].apply(lambda x : x[:-12])\n",
    "df_clean['time'] = df_clean['pickup_datetime'].apply(lambda x : x[11:-4])\n",
    "\n",
    "\n",
    "\n",
    "# removing datetime, since no longer needed\n",
    "df_clean = df_clean.drop(columns=['pickup_datetime'])\n",
    "\n",
    "df_clean['day'] = df_clean['date'].apply(lambda x : datetime.datetime.strptime(x.strip(), \"%Y-%m-%d\").weekday())"
   ]
  },
  {
   "cell_type": "code",
   "execution_count": 18,
   "metadata": {},
   "outputs": [
    {
     "data": {
      "text/plain": [
       "False"
      ]
     },
     "execution_count": 18,
     "metadata": {},
     "output_type": "execute_result"
    }
   ],
   "source": [
    "any(df_clean['time'].isnull())"
   ]
  },
  {
   "cell_type": "code",
   "execution_count": 19,
   "metadata": {},
   "outputs": [],
   "source": [
    "# Exploring Time feature\n",
    "\n",
    "df_clean['hour'] = df_clean['time'].apply(lambda x : int(x.split(\":\")[0]))"
   ]
  },
  {
   "cell_type": "code",
   "execution_count": 20,
   "metadata": {},
   "outputs": [],
   "source": [
    "# Got it from https://www.kaggle.com/pavanraj159/nyc-taxi-fare-time-series-forecasting\n",
    "\n",
    "R = 6373.0\n",
    "\n",
    "pickup_lat  = np.radians(df_clean[\"pickup_latitude\"])\n",
    "pickup_lon  = np.radians(df_clean[\"pickup_longitude\"])\n",
    "dropoff_lat = np.radians(df_clean[\"dropoff_latitude\"])\n",
    "dropoff_lon = np.radians(df_clean[\"dropoff_longitude\"])\n",
    "\n",
    "dist_lon = dropoff_lon - pickup_lon\n",
    "dist_lat = dropoff_lat - pickup_lat\n",
    "\n",
    "#Formula\n",
    "a = (np.sin(dist_lat/2))**2 + np.cos(pickup_lat) * np.cos(dropoff_lat) * (np.sin(dist_lon/2))**2 \n",
    "c = 2 * np.arctan2( np.sqrt(a), np.sqrt(1-a) ) \n",
    "d = R * c #(where R is the radius of the Earth)\n",
    "\n",
    "df_clean['distance'] = d"
   ]
  },
  {
   "cell_type": "code",
   "execution_count": 21,
   "metadata": {},
   "outputs": [
    {
     "data": {
      "text/plain": [
       "(9914, 4)"
      ]
     },
     "execution_count": 21,
     "metadata": {},
     "output_type": "execute_result"
    }
   ],
   "source": [
    "features = ['day', 'hour', 'distance', 'passenger_count']\n",
    "x = df_clean[features].values\n",
    "\n",
    "x.shape"
   ]
  },
  {
   "cell_type": "code",
   "execution_count": 22,
   "metadata": {},
   "outputs": [],
   "source": [
    "pred = mlp.predict(x)"
   ]
  },
  {
   "cell_type": "code",
   "execution_count": 23,
   "metadata": {},
   "outputs": [
    {
     "data": {
      "text/html": [
       "<div>\n",
       "<style scoped>\n",
       "    .dataframe tbody tr th:only-of-type {\n",
       "        vertical-align: middle;\n",
       "    }\n",
       "\n",
       "    .dataframe tbody tr th {\n",
       "        vertical-align: top;\n",
       "    }\n",
       "\n",
       "    .dataframe thead th {\n",
       "        text-align: right;\n",
       "    }\n",
       "</style>\n",
       "<table border=\"1\" class=\"dataframe\">\n",
       "  <thead>\n",
       "    <tr style=\"text-align: right;\">\n",
       "      <th></th>\n",
       "      <th>fare_amount</th>\n",
       "    </tr>\n",
       "  </thead>\n",
       "  <tbody>\n",
       "    <tr>\n",
       "      <th>0</th>\n",
       "      <td>9.523135</td>\n",
       "    </tr>\n",
       "    <tr>\n",
       "      <th>1</th>\n",
       "      <td>9.761744</td>\n",
       "    </tr>\n",
       "    <tr>\n",
       "      <th>2</th>\n",
       "      <td>5.247986</td>\n",
       "    </tr>\n",
       "    <tr>\n",
       "      <th>3</th>\n",
       "      <td>8.139517</td>\n",
       "    </tr>\n",
       "    <tr>\n",
       "      <th>4</th>\n",
       "      <td>15.853710</td>\n",
       "    </tr>\n",
       "  </tbody>\n",
       "</table>\n",
       "</div>"
      ],
      "text/plain": [
       "   fare_amount\n",
       "0     9.523135\n",
       "1     9.761744\n",
       "2     5.247986\n",
       "3     8.139517\n",
       "4    15.853710"
      ]
     },
     "execution_count": 23,
     "metadata": {},
     "output_type": "execute_result"
    }
   ],
   "source": [
    "df_pred = pd.DataFrame(pred, columns=[\"fare_amount\"])\n",
    "df_pred.head()"
   ]
  },
  {
   "cell_type": "code",
   "execution_count": 24,
   "metadata": {},
   "outputs": [
    {
     "data": {
      "text/plain": [
       "9914"
      ]
     },
     "execution_count": 24,
     "metadata": {},
     "output_type": "execute_result"
    }
   ],
   "source": [
    "len(df_pred)"
   ]
  },
  {
   "cell_type": "code",
   "execution_count": 25,
   "metadata": {},
   "outputs": [],
   "source": [
    "df_key = df_clean['key']"
   ]
  },
  {
   "cell_type": "code",
   "execution_count": 26,
   "metadata": {
    "scrolled": true
   },
   "outputs": [
    {
     "data": {
      "text/html": [
       "<div>\n",
       "<style scoped>\n",
       "    .dataframe tbody tr th:only-of-type {\n",
       "        vertical-align: middle;\n",
       "    }\n",
       "\n",
       "    .dataframe tbody tr th {\n",
       "        vertical-align: top;\n",
       "    }\n",
       "\n",
       "    .dataframe thead th {\n",
       "        text-align: right;\n",
       "    }\n",
       "</style>\n",
       "<table border=\"1\" class=\"dataframe\">\n",
       "  <thead>\n",
       "    <tr style=\"text-align: right;\">\n",
       "      <th></th>\n",
       "      <th>key</th>\n",
       "      <th>fare_amount</th>\n",
       "    </tr>\n",
       "  </thead>\n",
       "  <tbody>\n",
       "    <tr>\n",
       "      <th>0</th>\n",
       "      <td>2015-01-27 13:08:24.0000002</td>\n",
       "      <td>9.523135</td>\n",
       "    </tr>\n",
       "    <tr>\n",
       "      <th>1</th>\n",
       "      <td>2015-01-27 13:08:24.0000003</td>\n",
       "      <td>9.761744</td>\n",
       "    </tr>\n",
       "    <tr>\n",
       "      <th>2</th>\n",
       "      <td>2011-10-08 11:53:44.0000002</td>\n",
       "      <td>5.247986</td>\n",
       "    </tr>\n",
       "    <tr>\n",
       "      <th>3</th>\n",
       "      <td>2012-12-01 21:12:12.0000002</td>\n",
       "      <td>8.139517</td>\n",
       "    </tr>\n",
       "    <tr>\n",
       "      <th>4</th>\n",
       "      <td>2012-12-01 21:12:12.0000003</td>\n",
       "      <td>15.853710</td>\n",
       "    </tr>\n",
       "  </tbody>\n",
       "</table>\n",
       "</div>"
      ],
      "text/plain": [
       "                           key  fare_amount\n",
       "0  2015-01-27 13:08:24.0000002     9.523135\n",
       "1  2015-01-27 13:08:24.0000003     9.761744\n",
       "2  2011-10-08 11:53:44.0000002     5.247986\n",
       "3  2012-12-01 21:12:12.0000002     8.139517\n",
       "4  2012-12-01 21:12:12.0000003    15.853710"
      ]
     },
     "execution_count": 26,
     "metadata": {},
     "output_type": "execute_result"
    }
   ],
   "source": [
    "result = pd.concat([df_key,df_pred], axis=1, sort=False)\n",
    "result.head()"
   ]
  },
  {
   "cell_type": "code",
   "execution_count": 27,
   "metadata": {},
   "outputs": [],
   "source": [
    "result.to_csv(\"my_submission.csv\", index=False)"
   ]
  },
  {
   "cell_type": "code",
   "execution_count": null,
   "metadata": {},
   "outputs": [],
   "source": []
  }
 ],
 "metadata": {
  "kernelspec": {
   "display_name": "Python 3",
   "language": "python",
   "name": "python3"
  },
  "language_info": {
   "codemirror_mode": {
    "name": "ipython",
    "version": 3
   },
   "file_extension": ".py",
   "mimetype": "text/x-python",
   "name": "python",
   "nbconvert_exporter": "python",
   "pygments_lexer": "ipython3",
   "version": "3.7.0"
  }
 },
 "nbformat": 4,
 "nbformat_minor": 2
}
