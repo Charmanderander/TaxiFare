{
 "cells": [
  {
   "cell_type": "code",
   "execution_count": 32,
   "metadata": {},
   "outputs": [],
   "source": [
    "# Data Exploration\n",
    "\n",
    "# Importing various libraries\n",
    "\n",
    "import pandas as pd\n",
    "import matplotlib as mpl\n",
    "import matplotlib.pyplot as plt\n",
    "import numpy as np\n",
    "import datetime"
   ]
  },
  {
   "cell_type": "code",
   "execution_count": 2,
   "metadata": {},
   "outputs": [],
   "source": [
    "# Reading in a subset of the data. Total training set has 55 million rows. We don't want all of it\n",
    "\n",
    "df_train = pd.read_csv(\"train.csv\", nrows=1000000)"
   ]
  },
  {
   "cell_type": "code",
   "execution_count": 3,
   "metadata": {
    "scrolled": false
   },
   "outputs": [
    {
     "data": {
      "text/html": [
       "<div>\n",
       "<style scoped>\n",
       "    .dataframe tbody tr th:only-of-type {\n",
       "        vertical-align: middle;\n",
       "    }\n",
       "\n",
       "    .dataframe tbody tr th {\n",
       "        vertical-align: top;\n",
       "    }\n",
       "\n",
       "    .dataframe thead th {\n",
       "        text-align: right;\n",
       "    }\n",
       "</style>\n",
       "<table border=\"1\" class=\"dataframe\">\n",
       "  <thead>\n",
       "    <tr style=\"text-align: right;\">\n",
       "      <th></th>\n",
       "      <th>key</th>\n",
       "      <th>fare_amount</th>\n",
       "      <th>pickup_datetime</th>\n",
       "      <th>pickup_longitude</th>\n",
       "      <th>pickup_latitude</th>\n",
       "      <th>dropoff_longitude</th>\n",
       "      <th>dropoff_latitude</th>\n",
       "      <th>passenger_count</th>\n",
       "    </tr>\n",
       "  </thead>\n",
       "  <tbody>\n",
       "    <tr>\n",
       "      <th>0</th>\n",
       "      <td>2009-06-15 17:26:21.0000001</td>\n",
       "      <td>4.5</td>\n",
       "      <td>2009-06-15 17:26:21 UTC</td>\n",
       "      <td>-73.844311</td>\n",
       "      <td>40.721319</td>\n",
       "      <td>-73.841610</td>\n",
       "      <td>40.712278</td>\n",
       "      <td>1</td>\n",
       "    </tr>\n",
       "    <tr>\n",
       "      <th>1</th>\n",
       "      <td>2010-01-05 16:52:16.0000002</td>\n",
       "      <td>16.9</td>\n",
       "      <td>2010-01-05 16:52:16 UTC</td>\n",
       "      <td>-74.016048</td>\n",
       "      <td>40.711303</td>\n",
       "      <td>-73.979268</td>\n",
       "      <td>40.782004</td>\n",
       "      <td>1</td>\n",
       "    </tr>\n",
       "    <tr>\n",
       "      <th>2</th>\n",
       "      <td>2011-08-18 00:35:00.00000049</td>\n",
       "      <td>5.7</td>\n",
       "      <td>2011-08-18 00:35:00 UTC</td>\n",
       "      <td>-73.982738</td>\n",
       "      <td>40.761270</td>\n",
       "      <td>-73.991242</td>\n",
       "      <td>40.750562</td>\n",
       "      <td>2</td>\n",
       "    </tr>\n",
       "    <tr>\n",
       "      <th>3</th>\n",
       "      <td>2012-04-21 04:30:42.0000001</td>\n",
       "      <td>7.7</td>\n",
       "      <td>2012-04-21 04:30:42 UTC</td>\n",
       "      <td>-73.987130</td>\n",
       "      <td>40.733143</td>\n",
       "      <td>-73.991567</td>\n",
       "      <td>40.758092</td>\n",
       "      <td>1</td>\n",
       "    </tr>\n",
       "    <tr>\n",
       "      <th>4</th>\n",
       "      <td>2010-03-09 07:51:00.000000135</td>\n",
       "      <td>5.3</td>\n",
       "      <td>2010-03-09 07:51:00 UTC</td>\n",
       "      <td>-73.968095</td>\n",
       "      <td>40.768008</td>\n",
       "      <td>-73.956655</td>\n",
       "      <td>40.783762</td>\n",
       "      <td>1</td>\n",
       "    </tr>\n",
       "  </tbody>\n",
       "</table>\n",
       "</div>"
      ],
      "text/plain": [
       "                             key  fare_amount          pickup_datetime  \\\n",
       "0    2009-06-15 17:26:21.0000001          4.5  2009-06-15 17:26:21 UTC   \n",
       "1    2010-01-05 16:52:16.0000002         16.9  2010-01-05 16:52:16 UTC   \n",
       "2   2011-08-18 00:35:00.00000049          5.7  2011-08-18 00:35:00 UTC   \n",
       "3    2012-04-21 04:30:42.0000001          7.7  2012-04-21 04:30:42 UTC   \n",
       "4  2010-03-09 07:51:00.000000135          5.3  2010-03-09 07:51:00 UTC   \n",
       "\n",
       "   pickup_longitude  pickup_latitude  dropoff_longitude  dropoff_latitude  \\\n",
       "0        -73.844311        40.721319         -73.841610         40.712278   \n",
       "1        -74.016048        40.711303         -73.979268         40.782004   \n",
       "2        -73.982738        40.761270         -73.991242         40.750562   \n",
       "3        -73.987130        40.733143         -73.991567         40.758092   \n",
       "4        -73.968095        40.768008         -73.956655         40.783762   \n",
       "\n",
       "   passenger_count  \n",
       "0                1  \n",
       "1                1  \n",
       "2                2  \n",
       "3                1  \n",
       "4                1  "
      ]
     },
     "execution_count": 3,
     "metadata": {},
     "output_type": "execute_result"
    }
   ],
   "source": [
    "# Peeking at the data\n",
    "\n",
    "df_train.head()"
   ]
  },
  {
   "cell_type": "code",
   "execution_count": 4,
   "metadata": {},
   "outputs": [
    {
     "name": "stdout",
     "output_type": "stream",
     "text": [
      "Fare amount has Nan: False\n",
      "Pickup datetime amount has Nan: False\n",
      "Pickup lat amount has Nan: False\n",
      "Pickup long amount has Nan: False\n",
      "Dropoff lat amount has Nan: True\n",
      "Dropoff long amount has Nan: True\n",
      "Passenger count amount has Nan: False\n"
     ]
    }
   ],
   "source": [
    "# Cleaning data\n",
    "# 1. Missing Values\n",
    "# 2. Outliers\n",
    "\n",
    "print(\"Fare amount has Nan: {}\".format(df_train['fare_amount'].isnull().values.any()))\n",
    "print(\"Pickup datetime amount has Nan: {}\".format(df_train['pickup_datetime'].isnull().values.any()))\n",
    "print(\"Pickup lat amount has Nan: {}\".format(df_train['pickup_latitude'].isnull().values.any()))\n",
    "print(\"Pickup long amount has Nan: {}\".format(df_train['pickup_longitude'].isnull().values.any()))\n",
    "print(\"Dropoff lat amount has Nan: {}\".format(df_train['dropoff_latitude'].isnull().values.any()))\n",
    "print(\"Dropoff long amount has Nan: {}\".format(df_train['dropoff_longitude'].isnull().values.any()))\n",
    "print(\"Passenger count amount has Nan: {}\".format(df_train['passenger_count'].isnull().values.any()))"
   ]
  },
  {
   "cell_type": "markdown",
   "metadata": {},
   "source": [
    "Looks like there are null values in drop off long and lat\n",
    "Lets have a look at them"
   ]
  },
  {
   "cell_type": "code",
   "execution_count": 5,
   "metadata": {
    "scrolled": true
   },
   "outputs": [
    {
     "data": {
      "text/html": [
       "<div>\n",
       "<style scoped>\n",
       "    .dataframe tbody tr th:only-of-type {\n",
       "        vertical-align: middle;\n",
       "    }\n",
       "\n",
       "    .dataframe tbody tr th {\n",
       "        vertical-align: top;\n",
       "    }\n",
       "\n",
       "    .dataframe thead th {\n",
       "        text-align: right;\n",
       "    }\n",
       "</style>\n",
       "<table border=\"1\" class=\"dataframe\">\n",
       "  <thead>\n",
       "    <tr style=\"text-align: right;\">\n",
       "      <th></th>\n",
       "      <th>key</th>\n",
       "      <th>fare_amount</th>\n",
       "      <th>pickup_datetime</th>\n",
       "      <th>pickup_longitude</th>\n",
       "      <th>pickup_latitude</th>\n",
       "      <th>dropoff_longitude</th>\n",
       "      <th>dropoff_latitude</th>\n",
       "      <th>passenger_count</th>\n",
       "    </tr>\n",
       "  </thead>\n",
       "  <tbody>\n",
       "    <tr>\n",
       "      <th>120227</th>\n",
       "      <td>2012-12-11 12:57:00.00000013</td>\n",
       "      <td>12.50</td>\n",
       "      <td>2012-12-11 12:57:00 UTC</td>\n",
       "      <td>-73.992760</td>\n",
       "      <td>40.743098</td>\n",
       "      <td>NaN</td>\n",
       "      <td>NaN</td>\n",
       "      <td>0</td>\n",
       "    </tr>\n",
       "    <tr>\n",
       "      <th>245696</th>\n",
       "      <td>2013-03-21 18:07:07.0000001</td>\n",
       "      <td>86.50</td>\n",
       "      <td>2013-03-21 18:07:07 UTC</td>\n",
       "      <td>-73.991572</td>\n",
       "      <td>40.740591</td>\n",
       "      <td>NaN</td>\n",
       "      <td>NaN</td>\n",
       "      <td>0</td>\n",
       "    </tr>\n",
       "    <tr>\n",
       "      <th>340533</th>\n",
       "      <td>2012-12-11 12:50:52.00000010</td>\n",
       "      <td>27.50</td>\n",
       "      <td>2012-12-11 12:50:52 UTC</td>\n",
       "      <td>-73.979639</td>\n",
       "      <td>40.784742</td>\n",
       "      <td>NaN</td>\n",
       "      <td>NaN</td>\n",
       "      <td>0</td>\n",
       "    </tr>\n",
       "    <tr>\n",
       "      <th>428108</th>\n",
       "      <td>2011-09-08 09:12:52.0000001</td>\n",
       "      <td>11.80</td>\n",
       "      <td>2011-09-08 09:12:52 UTC</td>\n",
       "      <td>-73.987041</td>\n",
       "      <td>40.751542</td>\n",
       "      <td>NaN</td>\n",
       "      <td>NaN</td>\n",
       "      <td>0</td>\n",
       "    </tr>\n",
       "    <tr>\n",
       "      <th>471472</th>\n",
       "      <td>2012-12-11 12:34:20.0000006</td>\n",
       "      <td>7.80</td>\n",
       "      <td>2012-12-11 12:34:20 UTC</td>\n",
       "      <td>0.000000</td>\n",
       "      <td>0.000000</td>\n",
       "      <td>NaN</td>\n",
       "      <td>NaN</td>\n",
       "      <td>0</td>\n",
       "    </tr>\n",
       "    <tr>\n",
       "      <th>524834</th>\n",
       "      <td>2011-09-25 23:01:12.0000005</td>\n",
       "      <td>14.76</td>\n",
       "      <td>2011-09-25 23:01:12 UTC</td>\n",
       "      <td>-73.985374</td>\n",
       "      <td>40.768518</td>\n",
       "      <td>NaN</td>\n",
       "      <td>NaN</td>\n",
       "      <td>0</td>\n",
       "    </tr>\n",
       "    <tr>\n",
       "      <th>574023</th>\n",
       "      <td>2013-11-04 20:59:15.0000001</td>\n",
       "      <td>10.20</td>\n",
       "      <td>2013-11-04 20:59:15 UTC</td>\n",
       "      <td>-73.998460</td>\n",
       "      <td>40.745406</td>\n",
       "      <td>NaN</td>\n",
       "      <td>NaN</td>\n",
       "      <td>0</td>\n",
       "    </tr>\n",
       "    <tr>\n",
       "      <th>580338</th>\n",
       "      <td>2012-12-11 12:00:53.0000002</td>\n",
       "      <td>21.00</td>\n",
       "      <td>2012-12-11 12:00:53 UTC</td>\n",
       "      <td>-73.974743</td>\n",
       "      <td>40.752057</td>\n",
       "      <td>NaN</td>\n",
       "      <td>NaN</td>\n",
       "      <td>0</td>\n",
       "    </tr>\n",
       "    <tr>\n",
       "      <th>794694</th>\n",
       "      <td>2013-11-04 20:07:59.0000006</td>\n",
       "      <td>7.20</td>\n",
       "      <td>2013-11-04 20:07:59 UTC</td>\n",
       "      <td>-73.977048</td>\n",
       "      <td>40.787565</td>\n",
       "      <td>NaN</td>\n",
       "      <td>NaN</td>\n",
       "      <td>0</td>\n",
       "    </tr>\n",
       "    <tr>\n",
       "      <th>895400</th>\n",
       "      <td>2011-06-20 11:34:44.0000001</td>\n",
       "      <td>40.00</td>\n",
       "      <td>2011-06-20 11:34:44 UTC</td>\n",
       "      <td>-73.862900</td>\n",
       "      <td>40.768900</td>\n",
       "      <td>NaN</td>\n",
       "      <td>NaN</td>\n",
       "      <td>0</td>\n",
       "    </tr>\n",
       "  </tbody>\n",
       "</table>\n",
       "</div>"
      ],
      "text/plain": [
       "                                 key  fare_amount          pickup_datetime  \\\n",
       "120227  2012-12-11 12:57:00.00000013        12.50  2012-12-11 12:57:00 UTC   \n",
       "245696   2013-03-21 18:07:07.0000001        86.50  2013-03-21 18:07:07 UTC   \n",
       "340533  2012-12-11 12:50:52.00000010        27.50  2012-12-11 12:50:52 UTC   \n",
       "428108   2011-09-08 09:12:52.0000001        11.80  2011-09-08 09:12:52 UTC   \n",
       "471472   2012-12-11 12:34:20.0000006         7.80  2012-12-11 12:34:20 UTC   \n",
       "524834   2011-09-25 23:01:12.0000005        14.76  2011-09-25 23:01:12 UTC   \n",
       "574023   2013-11-04 20:59:15.0000001        10.20  2013-11-04 20:59:15 UTC   \n",
       "580338   2012-12-11 12:00:53.0000002        21.00  2012-12-11 12:00:53 UTC   \n",
       "794694   2013-11-04 20:07:59.0000006         7.20  2013-11-04 20:07:59 UTC   \n",
       "895400   2011-06-20 11:34:44.0000001        40.00  2011-06-20 11:34:44 UTC   \n",
       "\n",
       "        pickup_longitude  pickup_latitude  dropoff_longitude  \\\n",
       "120227        -73.992760        40.743098                NaN   \n",
       "245696        -73.991572        40.740591                NaN   \n",
       "340533        -73.979639        40.784742                NaN   \n",
       "428108        -73.987041        40.751542                NaN   \n",
       "471472          0.000000         0.000000                NaN   \n",
       "524834        -73.985374        40.768518                NaN   \n",
       "574023        -73.998460        40.745406                NaN   \n",
       "580338        -73.974743        40.752057                NaN   \n",
       "794694        -73.977048        40.787565                NaN   \n",
       "895400        -73.862900        40.768900                NaN   \n",
       "\n",
       "        dropoff_latitude  passenger_count  \n",
       "120227               NaN                0  \n",
       "245696               NaN                0  \n",
       "340533               NaN                0  \n",
       "428108               NaN                0  \n",
       "471472               NaN                0  \n",
       "524834               NaN                0  \n",
       "574023               NaN                0  \n",
       "580338               NaN                0  \n",
       "794694               NaN                0  \n",
       "895400               NaN                0  "
      ]
     },
     "execution_count": 5,
     "metadata": {},
     "output_type": "execute_result"
    }
   ],
   "source": [
    "# Exploring null latititudes\n",
    "\n",
    "df_train[df_train['dropoff_latitude'].isnull()]"
   ]
  },
  {
   "cell_type": "markdown",
   "metadata": {},
   "source": [
    "The NaN for drop off long/lat seem to be in pairs with 0 passengers\n",
    "This is obviously an errornous entry (unless its a loop hole exploited the taxi driver? hmmm)\n",
    "Anyway, lets remove these entries"
   ]
  },
  {
   "cell_type": "code",
   "execution_count": 6,
   "metadata": {},
   "outputs": [
    {
     "name": "stdout",
     "output_type": "stream",
     "text": [
      "Fare amount has Nan: False\n",
      "Pickup datetime amount has Nan: False\n",
      "Pickup lat amount has Nan: False\n",
      "Pickup long amount has Nan: False\n",
      "Dropoff lat amount has Nan: False\n",
      "Dropoff long amount has Nan: False\n",
      "Passenger count amount has Nan: False\n"
     ]
    }
   ],
   "source": [
    "# Removing null entries\n",
    "\n",
    "df_train = df_train[df_train['dropoff_latitude'].isnull() == False]\n",
    "print(\"Fare amount has Nan: {}\".format(df_train['fare_amount'].isnull().values.any()))\n",
    "print(\"Pickup datetime amount has Nan: {}\".format(df_train['pickup_datetime'].isnull().values.any()))\n",
    "print(\"Pickup lat amount has Nan: {}\".format(df_train['pickup_latitude'].isnull().values.any()))\n",
    "print(\"Pickup long amount has Nan: {}\".format(df_train['pickup_longitude'].isnull().values.any()))\n",
    "print(\"Dropoff lat amount has Nan: {}\".format(df_train['dropoff_latitude'].isnull().values.any()))\n",
    "print(\"Dropoff long amount has Nan: {}\".format(df_train['dropoff_longitude'].isnull().values.any()))\n",
    "print(\"Passenger count amount has Nan: {}\".format(df_train['passenger_count'].isnull().values.any()))"
   ]
  },
  {
   "cell_type": "code",
   "execution_count": 7,
   "metadata": {},
   "outputs": [
    {
     "data": {
      "text/plain": [
       "<matplotlib.axes._subplots.AxesSubplot at 0x7fd213b050b8>"
      ]
     },
     "execution_count": 7,
     "metadata": {},
     "output_type": "execute_result"
    },
    {
     "data": {
      "image/png": "[encoded data removed]",
      "text/plain": [
       "<Figure size 432x288 with 1 Axes>"
      ]
     },
     "metadata": {
      "needs_background": "light"
     },
     "output_type": "display_data"
    }
   ],
   "source": [
    "# Exploring Passenger Count feature\n",
    "\n",
    "df_train['passenger_count'].value_counts().plot.bar()"
   ]
  },
  {
   "cell_type": "markdown",
   "metadata": {},
   "source": [
    "We see clearly that single passengers dominate the taxi rides, and it slowly tapers off\n",
    "We see two obvious outliers here, 0 and 208 passengers. I don't see how those make sense\n",
    "Lets remove them"
   ]
  },
  {
   "cell_type": "code",
   "execution_count": 8,
   "metadata": {},
   "outputs": [
    {
     "data": {
      "text/plain": [
       "<matplotlib.axes._subplots.AxesSubplot at 0x7fd213a69470>"
      ]
     },
     "execution_count": 8,
     "metadata": {},
     "output_type": "execute_result"
    },
    {
     "data": {
      "image/png": "[encoded data removed]",
      "text/plain": [
       "<Figure size 432x288 with 1 Axes>"
      ]
     },
     "metadata": {
      "needs_background": "light"
     },
     "output_type": "display_data"
    }
   ],
   "source": [
    "# Removing odd passenger counts\n",
    "\n",
    "df_train = df_train[df_train.passenger_count != 208]\n",
    "df_train = df_train[df_train.passenger_count != 0]\n",
    "df_train['passenger_count'].value_counts().plot.bar()"
   ]
  },
  {
   "cell_type": "code",
   "execution_count": 9,
   "metadata": {
    "scrolled": true
   },
   "outputs": [
    {
     "data": {
      "text/plain": [
       "<matplotlib.axes._subplots.AxesSubplot at 0x7fd2139dfcc0>"
      ]
     },
     "execution_count": 9,
     "metadata": {},
     "output_type": "execute_result"
    },
    {
     "data": {
      "image/png": "[encoded data removed]",
      "text/plain": [
       "<Figure size 432x288 with 1 Axes>"
      ]
     },
     "metadata": {
      "needs_background": "light"
     },
     "output_type": "display_data"
    }
   ],
   "source": [
    "# Scatter plot between passenger count and fare\n",
    "\n",
    "df_train.plot(kind='scatter', x='passenger_count', y='fare_amount')"
   ]
  },
  {
   "cell_type": "markdown",
   "metadata": {},
   "source": [
    "It seems like theres a negative relationship between the number of passangers and the total fare\n",
    "Perhaps one can infer that big groups dont travel longer distances, as compared to smaller groups\n",
    "\n",
    "I do see some negative fare amounts. Lets remove those as well"
   ]
  },
  {
   "cell_type": "code",
   "execution_count": 10,
   "metadata": {},
   "outputs": [],
   "source": [
    "# Removing negative fares\n",
    "\n",
    "df_train = df_train[df_train.fare_amount > 0]"
   ]
  },
  {
   "cell_type": "markdown",
   "metadata": {},
   "source": [
    "Next, we'll look at price and date\n",
    "I would like to explore the price difference between weekdays and weekends, as well as time of travel\n",
    "Since the data has given me the date as it is, we need to do some feature engineering by creating more features\n",
    "The new features would be the day of the week, and time"
   ]
  },
  {
   "cell_type": "code",
   "execution_count": 11,
   "metadata": {
    "scrolled": true
   },
   "outputs": [
    {
     "data": {
      "text/html": [
       "<div>\n",
       "<style scoped>\n",
       "    .dataframe tbody tr th:only-of-type {\n",
       "        vertical-align: middle;\n",
       "    }\n",
       "\n",
       "    .dataframe tbody tr th {\n",
       "        vertical-align: top;\n",
       "    }\n",
       "\n",
       "    .dataframe thead th {\n",
       "        text-align: right;\n",
       "    }\n",
       "</style>\n",
       "<table border=\"1\" class=\"dataframe\">\n",
       "  <thead>\n",
       "    <tr style=\"text-align: right;\">\n",
       "      <th></th>\n",
       "      <th>key</th>\n",
       "      <th>fare_amount</th>\n",
       "      <th>pickup_longitude</th>\n",
       "      <th>pickup_latitude</th>\n",
       "      <th>dropoff_longitude</th>\n",
       "      <th>dropoff_latitude</th>\n",
       "      <th>passenger_count</th>\n",
       "      <th>date</th>\n",
       "      <th>time</th>\n",
       "      <th>day</th>\n",
       "    </tr>\n",
       "  </thead>\n",
       "  <tbody>\n",
       "    <tr>\n",
       "      <th>0</th>\n",
       "      <td>2009-06-15 17:26:21.0000001</td>\n",
       "      <td>4.5</td>\n",
       "      <td>-73.844311</td>\n",
       "      <td>40.721319</td>\n",
       "      <td>-73.841610</td>\n",
       "      <td>40.712278</td>\n",
       "      <td>1</td>\n",
       "      <td>2009-06-15</td>\n",
       "      <td>17:26:21</td>\n",
       "      <td>0</td>\n",
       "    </tr>\n",
       "    <tr>\n",
       "      <th>1</th>\n",
       "      <td>2010-01-05 16:52:16.0000002</td>\n",
       "      <td>16.9</td>\n",
       "      <td>-74.016048</td>\n",
       "      <td>40.711303</td>\n",
       "      <td>-73.979268</td>\n",
       "      <td>40.782004</td>\n",
       "      <td>1</td>\n",
       "      <td>2010-01-05</td>\n",
       "      <td>16:52:16</td>\n",
       "      <td>1</td>\n",
       "    </tr>\n",
       "    <tr>\n",
       "      <th>2</th>\n",
       "      <td>2011-08-18 00:35:00.00000049</td>\n",
       "      <td>5.7</td>\n",
       "      <td>-73.982738</td>\n",
       "      <td>40.761270</td>\n",
       "      <td>-73.991242</td>\n",
       "      <td>40.750562</td>\n",
       "      <td>2</td>\n",
       "      <td>2011-08-18</td>\n",
       "      <td>00:35:00</td>\n",
       "      <td>3</td>\n",
       "    </tr>\n",
       "    <tr>\n",
       "      <th>3</th>\n",
       "      <td>2012-04-21 04:30:42.0000001</td>\n",
       "      <td>7.7</td>\n",
       "      <td>-73.987130</td>\n",
       "      <td>40.733143</td>\n",
       "      <td>-73.991567</td>\n",
       "      <td>40.758092</td>\n",
       "      <td>1</td>\n",
       "      <td>2012-04-21</td>\n",
       "      <td>04:30:42</td>\n",
       "      <td>5</td>\n",
       "    </tr>\n",
       "    <tr>\n",
       "      <th>4</th>\n",
       "      <td>2010-03-09 07:51:00.000000135</td>\n",
       "      <td>5.3</td>\n",
       "      <td>-73.968095</td>\n",
       "      <td>40.768008</td>\n",
       "      <td>-73.956655</td>\n",
       "      <td>40.783762</td>\n",
       "      <td>1</td>\n",
       "      <td>2010-03-09</td>\n",
       "      <td>07:51:00</td>\n",
       "      <td>1</td>\n",
       "    </tr>\n",
       "  </tbody>\n",
       "</table>\n",
       "</div>"
      ],
      "text/plain": [
       "                             key  fare_amount  pickup_longitude  \\\n",
       "0    2009-06-15 17:26:21.0000001          4.5        -73.844311   \n",
       "1    2010-01-05 16:52:16.0000002         16.9        -74.016048   \n",
       "2   2011-08-18 00:35:00.00000049          5.7        -73.982738   \n",
       "3    2012-04-21 04:30:42.0000001          7.7        -73.987130   \n",
       "4  2010-03-09 07:51:00.000000135          5.3        -73.968095   \n",
       "\n",
       "   pickup_latitude  dropoff_longitude  dropoff_latitude  passenger_count  \\\n",
       "0        40.721319         -73.841610         40.712278                1   \n",
       "1        40.711303         -73.979268         40.782004                1   \n",
       "2        40.761270         -73.991242         40.750562                2   \n",
       "3        40.733143         -73.991567         40.758092                1   \n",
       "4        40.768008         -73.956655         40.783762                1   \n",
       "\n",
       "          date      time  day  \n",
       "0  2009-06-15   17:26:21    0  \n",
       "1  2010-01-05   16:52:16    1  \n",
       "2  2011-08-18   00:35:00    3  \n",
       "3  2012-04-21   04:30:42    5  \n",
       "4  2010-03-09   07:51:00    1  "
      ]
     },
     "execution_count": 11,
     "metadata": {},
     "output_type": "execute_result"
    }
   ],
   "source": [
    "# Creating new features date and time\n",
    "\n",
    "df_clean = df_train\n",
    "\n",
    "df_clean['date'] = df_train['pickup_datetime'].apply(lambda x : x[:-12])\n",
    "df_clean['time'] = df_train['pickup_datetime'].apply(lambda x : x[11:-4])\n",
    "\n",
    "# removing datetime, since no longer needed\n",
    "df_clean = df_clean.drop(columns=['pickup_datetime'])\n",
    "\n",
    "df_clean['day'] = df_clean['date'].apply(lambda x : datetime.datetime.strptime(x.strip(), \"%Y-%m-%d\").weekday())\n",
    "\n",
    "df_clean.head()"
   ]
  },
  {
   "cell_type": "markdown",
   "metadata": {},
   "source": [
    "Given this new day feature, we can analyze \n",
    "1. How many taxi rides are on a given day\n",
    "2. How fare amount varies across different days"
   ]
  },
  {
   "cell_type": "code",
   "execution_count": 12,
   "metadata": {},
   "outputs": [
    {
     "data": {
      "text/plain": [
       "<matplotlib.axes._subplots.AxesSubplot at 0x7fd2139bfa90>"
      ]
     },
     "execution_count": 12,
     "metadata": {},
     "output_type": "execute_result"
    },
    {
     "data": {
      "image/png": "[encoded data removed]",
      "text/plain": [
       "<Figure size 432x288 with 1 Axes>"
      ]
     },
     "metadata": {
      "needs_background": "light"
     },
     "output_type": "display_data"
    }
   ],
   "source": [
    "# Exploring day feature\n",
    "\n",
    "df_clean[['fare_amount', 'day']].head()\n",
    "\n",
    "df_clean['day'].value_counts().plot.bar()"
   ]
  },
  {
   "cell_type": "markdown",
   "metadata": {},
   "source": [
    "In descending order, Friday, Saturday, Thursday, Wednesday, Tuesday, Sunday, Monday\n",
    "How about correlation between day and fare amount?"
   ]
  },
  {
   "cell_type": "code",
   "execution_count": 13,
   "metadata": {},
   "outputs": [
    {
     "data": {
      "text/plain": [
       "<matplotlib.axes._subplots.AxesSubplot at 0x7fd1f92b6f98>"
      ]
     },
     "execution_count": 13,
     "metadata": {},
     "output_type": "execute_result"
    },
    {
     "data": {
      "image/png": "[encoded data removed]",
      "text/plain": [
       "<Figure size 432x288 with 1 Axes>"
      ]
     },
     "metadata": {
      "needs_background": "light"
     },
     "output_type": "display_data"
    }
   ],
   "source": [
    "# Scatter plot of day and far amount\n",
    "df_clean.sample(1000).plot.scatter(x='day', y='fare_amount')"
   ]
  },
  {
   "cell_type": "markdown",
   "metadata": {},
   "source": [
    "Not much correlation. Lets explore the time feature now!\n",
    "For time, we'll split it by hour"
   ]
  },
  {
   "cell_type": "code",
   "execution_count": 14,
   "metadata": {},
   "outputs": [
    {
     "data": {
      "text/html": [
       "<div>\n",
       "<style scoped>\n",
       "    .dataframe tbody tr th:only-of-type {\n",
       "        vertical-align: middle;\n",
       "    }\n",
       "\n",
       "    .dataframe tbody tr th {\n",
       "        vertical-align: top;\n",
       "    }\n",
       "\n",
       "    .dataframe thead th {\n",
       "        text-align: right;\n",
       "    }\n",
       "</style>\n",
       "<table border=\"1\" class=\"dataframe\">\n",
       "  <thead>\n",
       "    <tr style=\"text-align: right;\">\n",
       "      <th></th>\n",
       "      <th>key</th>\n",
       "      <th>fare_amount</th>\n",
       "      <th>pickup_longitude</th>\n",
       "      <th>pickup_latitude</th>\n",
       "      <th>dropoff_longitude</th>\n",
       "      <th>dropoff_latitude</th>\n",
       "      <th>passenger_count</th>\n",
       "      <th>date</th>\n",
       "      <th>time</th>\n",
       "      <th>day</th>\n",
       "      <th>hour</th>\n",
       "    </tr>\n",
       "  </thead>\n",
       "  <tbody>\n",
       "    <tr>\n",
       "      <th>0</th>\n",
       "      <td>2009-06-15 17:26:21.0000001</td>\n",
       "      <td>4.5</td>\n",
       "      <td>-73.844311</td>\n",
       "      <td>40.721319</td>\n",
       "      <td>-73.841610</td>\n",
       "      <td>40.712278</td>\n",
       "      <td>1</td>\n",
       "      <td>2009-06-15</td>\n",
       "      <td>17:26:21</td>\n",
       "      <td>0</td>\n",
       "      <td>17</td>\n",
       "    </tr>\n",
       "    <tr>\n",
       "      <th>1</th>\n",
       "      <td>2010-01-05 16:52:16.0000002</td>\n",
       "      <td>16.9</td>\n",
       "      <td>-74.016048</td>\n",
       "      <td>40.711303</td>\n",
       "      <td>-73.979268</td>\n",
       "      <td>40.782004</td>\n",
       "      <td>1</td>\n",
       "      <td>2010-01-05</td>\n",
       "      <td>16:52:16</td>\n",
       "      <td>1</td>\n",
       "      <td>16</td>\n",
       "    </tr>\n",
       "    <tr>\n",
       "      <th>2</th>\n",
       "      <td>2011-08-18 00:35:00.00000049</td>\n",
       "      <td>5.7</td>\n",
       "      <td>-73.982738</td>\n",
       "      <td>40.761270</td>\n",
       "      <td>-73.991242</td>\n",
       "      <td>40.750562</td>\n",
       "      <td>2</td>\n",
       "      <td>2011-08-18</td>\n",
       "      <td>00:35:00</td>\n",
       "      <td>3</td>\n",
       "      <td>0</td>\n",
       "    </tr>\n",
       "    <tr>\n",
       "      <th>3</th>\n",
       "      <td>2012-04-21 04:30:42.0000001</td>\n",
       "      <td>7.7</td>\n",
       "      <td>-73.987130</td>\n",
       "      <td>40.733143</td>\n",
       "      <td>-73.991567</td>\n",
       "      <td>40.758092</td>\n",
       "      <td>1</td>\n",
       "      <td>2012-04-21</td>\n",
       "      <td>04:30:42</td>\n",
       "      <td>5</td>\n",
       "      <td>4</td>\n",
       "    </tr>\n",
       "    <tr>\n",
       "      <th>4</th>\n",
       "      <td>2010-03-09 07:51:00.000000135</td>\n",
       "      <td>5.3</td>\n",
       "      <td>-73.968095</td>\n",
       "      <td>40.768008</td>\n",
       "      <td>-73.956655</td>\n",
       "      <td>40.783762</td>\n",
       "      <td>1</td>\n",
       "      <td>2010-03-09</td>\n",
       "      <td>07:51:00</td>\n",
       "      <td>1</td>\n",
       "      <td>7</td>\n",
       "    </tr>\n",
       "  </tbody>\n",
       "</table>\n",
       "</div>"
      ],
      "text/plain": [
       "                             key  fare_amount  pickup_longitude  \\\n",
       "0    2009-06-15 17:26:21.0000001          4.5        -73.844311   \n",
       "1    2010-01-05 16:52:16.0000002         16.9        -74.016048   \n",
       "2   2011-08-18 00:35:00.00000049          5.7        -73.982738   \n",
       "3    2012-04-21 04:30:42.0000001          7.7        -73.987130   \n",
       "4  2010-03-09 07:51:00.000000135          5.3        -73.968095   \n",
       "\n",
       "   pickup_latitude  dropoff_longitude  dropoff_latitude  passenger_count  \\\n",
       "0        40.721319         -73.841610         40.712278                1   \n",
       "1        40.711303         -73.979268         40.782004                1   \n",
       "2        40.761270         -73.991242         40.750562                2   \n",
       "3        40.733143         -73.991567         40.758092                1   \n",
       "4        40.768008         -73.956655         40.783762                1   \n",
       "\n",
       "          date      time  day  hour  \n",
       "0  2009-06-15   17:26:21    0    17  \n",
       "1  2010-01-05   16:52:16    1    16  \n",
       "2  2011-08-18   00:35:00    3     0  \n",
       "3  2012-04-21   04:30:42    5     4  \n",
       "4  2010-03-09   07:51:00    1     7  "
      ]
     },
     "execution_count": 14,
     "metadata": {},
     "output_type": "execute_result"
    }
   ],
   "source": [
    "# Exploring Time feature\n",
    "\n",
    "\n",
    "df_clean['hour'] = df_clean['time'].apply(lambda x : int(x.split(\":\")[0]))\n",
    "\n",
    "df_clean.head()"
   ]
  },
  {
   "cell_type": "code",
   "execution_count": 15,
   "metadata": {
    "collapsed": true
   },
   "outputs": [
    {
     "data": {
      "text/plain": [
       "<matplotlib.axes._subplots.AxesSubplot at 0x7fd1f92a00f0>"
      ]
     },
     "execution_count": 15,
     "metadata": {},
     "output_type": "execute_result"
    },
    {
     "data": {
      "image/png": "[encoded data removed]",
      "text/plain": [
       "<Figure size 432x288 with 1 Axes>"
      ]
     },
     "metadata": {
      "needs_background": "light"
     },
     "output_type": "display_data"
    }
   ],
   "source": [
    "# Lets analyze the time groups\n",
    "\n",
    "df_clean['hour'].value_counts().plot.bar()"
   ]
  },
  {
   "cell_type": "markdown",
   "metadata": {},
   "source": [
    "We can see a nice trend, with 7pm having the most amount of rides, and 5am having the least.\n",
    "\n",
    "Lets look at how these times correlate with the days"
   ]
  },
  {
   "cell_type": "code",
   "execution_count": 41,
   "metadata": {
    "collapsed": true
   },
   "outputs": [
    {
     "name": "stdout",
     "output_type": "stream",
     "text": [
      "Monday\n"
     ]
    },
    {
     "data": {
      "image/png": "[encoded data removed]",
      "text/plain": [
       "<Figure size 432x288 with 1 Axes>"
      ]
     },
     "metadata": {
      "needs_background": "light"
     },
     "output_type": "display_data"
    },
    {
     "name": "stdout",
     "output_type": "stream",
     "text": [
      "Tuesday\n"
     ]
    },
    {
     "data": {
      "image/png": "[encoded data removed]",
      "text/plain": [
       "<Figure size 432x288 with 1 Axes>"
      ]
     },
     "metadata": {
      "needs_background": "light"
     },
     "output_type": "display_data"
    },
    {
     "name": "stdout",
     "output_type": "stream",
     "text": [
      "Wednesday\n"
     ]
    },
    {
     "data": {
      "image/png": "[encoded data removed]",
      "text/plain": [
       "<Figure size 432x288 with 1 Axes>"
      ]
     },
     "metadata": {
      "needs_background": "light"
     },
     "output_type": "display_data"
    },
    {
     "name": "stdout",
     "output_type": "stream",
     "text": [
      "Thursday\n"
     ]
    },
    {
     "data": {
      "image/png": "[encoded data removed]",
      "text/plain": [
       "<Figure size 432x288 with 1 Axes>"
      ]
     },
     "metadata": {
      "needs_background": "light"
     },
     "output_type": "display_data"
    },
    {
     "name": "stdout",
     "output_type": "stream",
     "text": [
      "Friday\n"
     ]
    },
    {
     "data": {
      "image/png": "[encoded data removed]",
      "text/plain": [
       "<Figure size 432x288 with 1 Axes>"
      ]
     },
     "metadata": {
      "needs_background": "light"
     },
     "output_type": "display_data"
    },
    {
     "name": "stdout",
     "output_type": "stream",
     "text": [
      "Saturday\n"
     ]
    },
    {
     "data": {
      "image/png": "[encoded data removed]",
      "text/plain": [
       "<Figure size 432x288 with 1 Axes>"
      ]
     },
     "metadata": {
      "needs_background": "light"
     },
     "output_type": "display_data"
    },
    {
     "name": "stdout",
     "output_type": "stream",
     "text": [
      "Sunday\n"
     ]
    },
    {
     "data": {
      "image/png": "[encoded data removed]",
      "text/plain": [
       "<Figure size 432x288 with 1 Axes>"
      ]
     },
     "metadata": {
      "needs_background": "light"
     },
     "output_type": "display_data"
    }
   ],
   "source": [
    "days = {0 : \"Monday\",\n",
    "        1 : \"Tuesday\",\n",
    "        2 : \"Wednesday\",\n",
    "        3 : \"Thursday\",\n",
    "        4 : \"Friday\",\n",
    "        5 : \"Saturday\",\n",
    "        6 : \"Sunday\",\n",
    "       }\n",
    "\n",
    "for x in range(7):\n",
    "    df_clean[df_clean['day'] == x]['hour'].value_counts().plot.bar()\n",
    "    print(days[x])\n",
    "    plt.show()"
   ]
  },
  {
   "cell_type": "markdown",
   "metadata": {},
   "source": [
    "Monday - Friday, 7pm - 8pm has the most rides, while on saturday, it's 10pm - 11pm. Interestingly on Sunday, its 12am -1am. I thought folks would want to go home earlier as they have work the next day!\n",
    "\n",
    "Now comes the interesting part about analyzing geolocation data"
   ]
  },
  {
   "cell_type": "code",
   "execution_count": 42,
   "metadata": {},
   "outputs": [
    {
     "data": {
      "text/html": [
       "<div>\n",
       "<style scoped>\n",
       "    .dataframe tbody tr th:only-of-type {\n",
       "        vertical-align: middle;\n",
       "    }\n",
       "\n",
       "    .dataframe tbody tr th {\n",
       "        vertical-align: top;\n",
       "    }\n",
       "\n",
       "    .dataframe thead th {\n",
       "        text-align: right;\n",
       "    }\n",
       "</style>\n",
       "<table border=\"1\" class=\"dataframe\">\n",
       "  <thead>\n",
       "    <tr style=\"text-align: right;\">\n",
       "      <th></th>\n",
       "      <th>key</th>\n",
       "      <th>fare_amount</th>\n",
       "      <th>pickup_longitude</th>\n",
       "      <th>pickup_latitude</th>\n",
       "      <th>dropoff_longitude</th>\n",
       "      <th>dropoff_latitude</th>\n",
       "      <th>passenger_count</th>\n",
       "      <th>date</th>\n",
       "      <th>time</th>\n",
       "      <th>day</th>\n",
       "      <th>hour</th>\n",
       "    </tr>\n",
       "  </thead>\n",
       "  <tbody>\n",
       "    <tr>\n",
       "      <th>0</th>\n",
       "      <td>2009-06-15 17:26:21.0000001</td>\n",
       "      <td>4.5</td>\n",
       "      <td>-73.844311</td>\n",
       "      <td>40.721319</td>\n",
       "      <td>-73.841610</td>\n",
       "      <td>40.712278</td>\n",
       "      <td>1</td>\n",
       "      <td>2009-06-15</td>\n",
       "      <td>17:26:21</td>\n",
       "      <td>0</td>\n",
       "      <td>17</td>\n",
       "    </tr>\n",
       "    <tr>\n",
       "      <th>1</th>\n",
       "      <td>2010-01-05 16:52:16.0000002</td>\n",
       "      <td>16.9</td>\n",
       "      <td>-74.016048</td>\n",
       "      <td>40.711303</td>\n",
       "      <td>-73.979268</td>\n",
       "      <td>40.782004</td>\n",
       "      <td>1</td>\n",
       "      <td>2010-01-05</td>\n",
       "      <td>16:52:16</td>\n",
       "      <td>1</td>\n",
       "      <td>16</td>\n",
       "    </tr>\n",
       "    <tr>\n",
       "      <th>2</th>\n",
       "      <td>2011-08-18 00:35:00.00000049</td>\n",
       "      <td>5.7</td>\n",
       "      <td>-73.982738</td>\n",
       "      <td>40.761270</td>\n",
       "      <td>-73.991242</td>\n",
       "      <td>40.750562</td>\n",
       "      <td>2</td>\n",
       "      <td>2011-08-18</td>\n",
       "      <td>00:35:00</td>\n",
       "      <td>3</td>\n",
       "      <td>0</td>\n",
       "    </tr>\n",
       "    <tr>\n",
       "      <th>3</th>\n",
       "      <td>2012-04-21 04:30:42.0000001</td>\n",
       "      <td>7.7</td>\n",
       "      <td>-73.987130</td>\n",
       "      <td>40.733143</td>\n",
       "      <td>-73.991567</td>\n",
       "      <td>40.758092</td>\n",
       "      <td>1</td>\n",
       "      <td>2012-04-21</td>\n",
       "      <td>04:30:42</td>\n",
       "      <td>5</td>\n",
       "      <td>4</td>\n",
       "    </tr>\n",
       "    <tr>\n",
       "      <th>4</th>\n",
       "      <td>2010-03-09 07:51:00.000000135</td>\n",
       "      <td>5.3</td>\n",
       "      <td>-73.968095</td>\n",
       "      <td>40.768008</td>\n",
       "      <td>-73.956655</td>\n",
       "      <td>40.783762</td>\n",
       "      <td>1</td>\n",
       "      <td>2010-03-09</td>\n",
       "      <td>07:51:00</td>\n",
       "      <td>1</td>\n",
       "      <td>7</td>\n",
       "    </tr>\n",
       "  </tbody>\n",
       "</table>\n",
       "</div>"
      ],
      "text/plain": [
       "                             key  fare_amount  pickup_longitude  \\\n",
       "0    2009-06-15 17:26:21.0000001          4.5        -73.844311   \n",
       "1    2010-01-05 16:52:16.0000002         16.9        -74.016048   \n",
       "2   2011-08-18 00:35:00.00000049          5.7        -73.982738   \n",
       "3    2012-04-21 04:30:42.0000001          7.7        -73.987130   \n",
       "4  2010-03-09 07:51:00.000000135          5.3        -73.968095   \n",
       "\n",
       "   pickup_latitude  dropoff_longitude  dropoff_latitude  passenger_count  \\\n",
       "0        40.721319         -73.841610         40.712278                1   \n",
       "1        40.711303         -73.979268         40.782004                1   \n",
       "2        40.761270         -73.991242         40.750562                2   \n",
       "3        40.733143         -73.991567         40.758092                1   \n",
       "4        40.768008         -73.956655         40.783762                1   \n",
       "\n",
       "          date      time  day  hour  \n",
       "0  2009-06-15   17:26:21    0    17  \n",
       "1  2010-01-05   16:52:16    1    16  \n",
       "2  2011-08-18   00:35:00    3     0  \n",
       "3  2012-04-21   04:30:42    5     4  \n",
       "4  2010-03-09   07:51:00    1     7  "
      ]
     },
     "execution_count": 42,
     "metadata": {},
     "output_type": "execute_result"
    }
   ],
   "source": [
    "df_clean.head()"
   ]
  },
  {
   "cell_type": "markdown",
   "metadata": {},
   "source": [
    "Lets scatter plot pickup/dropoff long/lat to see if there are any outliers to remove"
   ]
  },
  {
   "cell_type": "code",
   "execution_count": 49,
   "metadata": {},
   "outputs": [
    {
     "data": {
      "image/png": "[encoded data removed]",
      "text/plain": [
       "<Figure size 432x288 with 1 Axes>"
      ]
     },
     "metadata": {
      "needs_background": "light"
     },
     "output_type": "display_data"
    },
    {
     "data": {
      "image/png": "[encoded data removed]",
      "text/plain": [
       "<Figure size 432x288 with 1 Axes>"
      ]
     },
     "metadata": {
      "needs_background": "light"
     },
     "output_type": "display_data"
    }
   ],
   "source": [
    "df_clean.plot.scatter(x='pickup_longitude', y='pickup_latitude')\n",
    "plt.show()\n",
    "df_clean.plot.scatter(x='dropoff_longitude', y='dropoff_latitude')\n",
    "plt.show()"
   ]
  },
  {
   "cell_type": "markdown",
   "metadata": {},
   "source": [
    "We can see some wildy inaccurate coordinates that are way out of NYC. Lets remove those, and replot the scatter"
   ]
  },
  {
   "cell_type": "code",
   "execution_count": 58,
   "metadata": {},
   "outputs": [
    {
     "data": {
      "image/png": "[encoded data removed]",
      "text/plain": [
       "<Figure size 432x288 with 1 Axes>"
      ]
     },
     "metadata": {
      "needs_background": "light"
     },
     "output_type": "display_data"
    },
    {
     "data": {
      "image/png": "[encoded data removed]",
      "text/plain": [
       "<Figure size 432x288 with 1 Axes>"
      ]
     },
     "metadata": {
      "needs_background": "light"
     },
     "output_type": "display_data"
    }
   ],
   "source": [
    "# These cut off values were done by trial and error, and observing the bounding box of NYC on Google Maps\n",
    "\n",
    "df_clean = df_clean[df_clean['pickup_longitude'] > -75]\n",
    "df_clean = df_clean[df_clean['pickup_longitude'] < -72]\n",
    "df_clean = df_clean[df_clean['pickup_latitude'] < 41]\n",
    "df_clean = df_clean[df_clean['pickup_latitude'] > 40]\n",
    "\n",
    "\n",
    "df_clean = df_clean[df_clean['dropoff_longitude'] > -75]\n",
    "df_clean = df_clean[df_clean['dropoff_longitude'] < -72]\n",
    "df_clean = df_clean[df_clean['dropoff_latitude'] < 41]\n",
    "df_clean = df_clean[df_clean['dropoff_latitude'] > 40]\n",
    "\n",
    "df_clean.plot.scatter(x='pickup_longitude', y='pickup_latitude')\n",
    "plt.show()\n",
    "df_clean.plot.scatter(x='dropoff_longitude', y='dropoff_latitude')\n",
    "plt.show()\n"
   ]
  },
  {
   "cell_type": "markdown",
   "metadata": {},
   "source": [
    "Now the plot looks more consistent. We need to account for the tolls.\n",
    "\n",
    "There are a total of 11 tolls bridges in NYC: https://en.wikipedia.org/wiki/Category:Toll_bridges_in_New_York_City\n",
    "\n",
    "Some of them are one way, while others are two ways\n",
    "\n",
    "Tolls are discounted if they use E-ZPass. We assume that taxi companies are well equipped, and all use E-Zpass\n",
    "\n",
    "1. Bayonne Bridge\n",
    "   - Staten - Bayonne = \\$15.00\n",
    "   - Bayonne - Staten = \\$0.00\n",
    "2. Bronx-Whitestone Bridge\n",
    "   - Both ways = \\$5.76\n",
    "3. Cross Bay Veterans Memorial Bridge\n",
    "   - Both ways = \\$2.16\n",
    "4. George Washington Bridge\n",
    "   - Both ways = \\$10.50\n",
    "5. Geothals Bridge\n",
    "   - New Jersey - New York = \\$10.50\n",
    "   - New York - New Jersey = \\$0.00\n",
    "6. Henry Hudson Bridge\n",
    "   - Both ways = \\$2.64\n",
    "7. Marine Parkway-Gil Hodges Memorial Bridge\n",
    "   - Both ways = \\$2.16\n",
    "8. Outerbridge Crossing\n",
    "   - Both ways = \\$12.50\n",
    "9. Throgs Neck Bridge\n",
    "   - Both ways = \\$5.76\n",
    "10. Triborough Bridge\n",
    "   - Both ways = \\$5.76\n",
    "11. Verrazzano-Narrows Bridge\n",
    "   - Brooklyn - Staten = \\$11.52\n",
    "   - Staten - Brooklyn = \\$0.00\n",
    "   \n",
    "The hard part is figuring out with pickup - dropoff points will cross these bridges, and which direction are they coming from!"
   ]
  },
  {
   "cell_type": "code",
   "execution_count": null,
   "metadata": {},
   "outputs": [],
   "source": []
  }
 ],
 "metadata": {
  "kernelspec": {
   "display_name": "Python 3",
   "language": "python",
   "name": "python3"
  },
  "language_info": {
   "codemirror_mode": {
    "name": "ipython",
    "version": 3
   },
   "file_extension": ".py",
   "mimetype": "text/x-python",
   "name": "python",
   "nbconvert_exporter": "python",
   "pygments_lexer": "ipython3",
   "version": "3.7.0"
  }
 },
 "nbformat": 4,
 "nbformat_minor": 2
}
